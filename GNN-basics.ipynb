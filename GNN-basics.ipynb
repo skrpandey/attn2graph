{
 "cells": [
  {
   "cell_type": "code",
   "execution_count": 27,
   "id": "08a404e3-2ed5-4236-9c5c-f1f11800aac9",
   "metadata": {},
   "outputs": [],
   "source": [
    "import torch\n",
    "import pandas as pd\n",
    "import numpy as np"
   ]
  },
  {
   "cell_type": "code",
   "execution_count": 37,
   "id": "33e13a13-5e5a-4109-98b5-10fac8b6f9bf",
   "metadata": {},
   "outputs": [],
   "source": [
    "# Node features: shape [num_nodes, feature_dim]\n",
    "X = torch.tensor([\n",
    "    [1, 0],   # Node 0\n",
    "    [0, 1],   # Node 1\n",
    "    [1, 1],   # Node 2\n",
    "    [0, 0]    # Node 3\n",
    "], dtype=torch.float32)\n",
    "\n",
    "# Adjacency matrix (with self-loops - A+I)\n",
    "A = torch.tensor([\n",
    "    [1, 1, 0, 0],\n",
    "    [1, 1, 1, 0],\n",
    "    [0, 1, 1, 1],\n",
    "    [0, 0, 1, 1]\n",
    "], dtype=torch.float32)\n",
    "\n",
    "labels = torch.tensor([0, 1, 0, 1])  # e.g., binary classification"
   ]
  },
  {
   "cell_type": "markdown",
   "id": "b40a6df8",
   "metadata": {},
   "source": [
    "The equation defines the forward propagation rule for a **Graph Convolutional Network (GCN) layer**:\n",
    "\n",
    "$$\n",
    "H^{(l+1)} = \\sigma \\left( \\tilde{D}^{-1/2} \\tilde{A} \\tilde{D}^{-1/2} H^{(l)} W^{(l)} \\right)\n",
    "$$\n",
    "\n",
    "### Components:\n",
    "1. **$\\tilde{A} = A + I$**  \n",
    "   - Adjacency matrix ($A$) with added self-connections (identity matrix $I$).  \n",
    "2. **$\\tilde{D}$**  \n",
    "   - Degree matrix of $\\tilde{A}$, where $\\tilde{D}_{ii} = \\sum_j \\tilde{A}_{ij}$.  \n",
    "3. **$\\tilde{D}^{-1/2} \\tilde{A} \\tilde{D}^{-1/2}$**  \n",
    "   - Symmetric normalization of $\\tilde{A}$ to prevent scaling issues.  \n",
    "4. **$H^{(l)}$**  \n",
    "   - Node feature matrix at layer $l$ (input features for the current layer).  \n",
    "5. **$W^{(l)}$**  \n",
    "   - Trainable weight matrix for layer $l$.  \n",
    "6. **$\\sigma(\\cdot)$**  \n",
    "   - Non-linear activation function (e.g., ReLU, Sigmoid).  \n",
    "\n",
    "### Interpretation:\n",
    "- The term $\\tilde{D}^{-1/2} \\tilde{A} \\tilde{D}^{-1/2}$ aggregates **normalized neighborhood features**.  \n",
    "- $H^{(l)} W^{(l)}$ applies a learnable linear transformation to the input features.  \n",
    "- The output $H^{(l+1)}$ is the activated node embeddings for the next layer.  \n"
   ]
  },
  {
   "cell_type": "code",
   "execution_count": 44,
   "id": "4be0a733-ca01-4dc3-b1a1-26198cc7f0f3",
   "metadata": {},
   "outputs": [],
   "source": [
    "def normalize_adjacency(A):\n",
    "    D = torch.diag(torch.sum(A, dim=1))\n",
    "    D_inv_sqrt = torch.inverse(torch.sqrt(D))\n",
    "    A_hat = D_inv_sqrt @ A @ D_inv_sqrt\n",
    "    return A_hat"
   ]
  },
  {
   "cell_type": "code",
   "execution_count": 55,
   "id": "a599370e-6141-424e-9f41-6ae7e30c30a5",
   "metadata": {},
   "outputs": [],
   "source": [
    "import torch.nn as nn\n",
    "import torch.nn.functional as F\n",
    "\n",
    "class GCNLayer(nn.Module):\n",
    "    def __init__(self, in_features, out_features):\n",
    "        super(GCNLayer, self).__init__()\n",
    "        self.weight = nn.Parameter(torch.randn(in_features, out_features))\n",
    "        \n",
    "    def forward(self, X, A_hat):\n",
    "        result = A_hat@X@self.weight\n",
    "#         print(f'Result = {result}')\n",
    "#         print(f'Relu Result = {F.relu(result)}')\n",
    "        return F.relu(result)\n",
    "    "
   ]
  },
  {
   "cell_type": "code",
   "execution_count": 56,
   "id": "7f58f4e2",
   "metadata": {},
   "outputs": [],
   "source": [
    "class GCN(nn.Module):\n",
    "    def __init__(self, in_features, hidden_dim, out_features):\n",
    "        super().__init__()\n",
    "        self.gcn1 = GCNLayer(in_features, hidden_dim)\n",
    "        self.gcn2 = GCNLayer(hidden_dim, out_features)\n",
    "        \n",
    "    def forward(self, X, A_hat):\n",
    "        X = self.gcn1(X, A_hat)\n",
    "        X = self.gcn2(X, A_hat)\n",
    "        return X"
   ]
  },
  {
   "cell_type": "code",
   "execution_count": 57,
   "id": "a4109097",
   "metadata": {},
   "outputs": [
    {
     "name": "stdout",
     "output_type": "stream",
     "text": [
      "Output Node Embeddings:\n",
      " tensor([[0.0000e+00, 0.0000e+00],\n",
      "        [0.0000e+00, 8.0825e-05],\n",
      "        [0.0000e+00, 8.0825e-05],\n",
      "        [0.0000e+00, 9.8990e-05]], grad_fn=<ReluBackward0>)\n"
     ]
    }
   ],
   "source": [
    "A_hat = normalize_adjacency(A)\n",
    "model = GCN(in_features=2, hidden_dim=4, out_features=2)\n",
    "output = model(X, A_hat)\n",
    "print(\"Output Node Embeddings:\\n\", output)"
   ]
  },
  {
   "cell_type": "markdown",
   "id": "2536aba8",
   "metadata": {},
   "source": [
    "## Classification"
   ]
  },
  {
   "cell_type": "code",
   "execution_count": 62,
   "id": "bf98bcba",
   "metadata": {},
   "outputs": [
    {
     "name": "stdout",
     "output_type": "stream",
     "text": [
      "Node Labels: tensor([0, 1, 0, 1])\n",
      "Epoch 0, Loss: 0.6640\n",
      "Epoch 10, Loss: 0.6638\n",
      "Epoch 20, Loss: 0.6636\n",
      "Epoch 30, Loss: 0.6633\n",
      "Epoch 40, Loss: 0.6631\n",
      "Epoch 50, Loss: 0.6629\n",
      "Epoch 60, Loss: 0.6627\n",
      "Epoch 70, Loss: 0.6625\n",
      "Epoch 80, Loss: 0.6622\n",
      "Epoch 90, Loss: 0.6620\n"
     ]
    }
   ],
   "source": [
    "print(f\"Node Labels: {labels}\")\n",
    "loss_function = nn.CrossEntropyLoss()\n",
    "optimizer = torch.optim.Adam(model.parameters(), lr=0.001)\n",
    "\n",
    "# Training step\n",
    "for epoch in range(100):\n",
    "    model.train()\n",
    "    optimizer.zero_grad()\n",
    "    \n",
    "    output = model(X, A_hat)\n",
    "    loss = loss_function(output, labels)\n",
    "    loss.backward()\n",
    "    optimizer.step()\n",
    "    if epoch%10 ==0:\n",
    "        print(f\"Epoch {epoch}, Loss: {loss.item():.4f}\")\n",
    "        \n",
    "\n",
    "        \n",
    "    \n",
    "    \n",
    "    "
   ]
  },
  {
   "cell_type": "code",
   "execution_count": null,
   "id": "d3ccd61c",
   "metadata": {},
   "outputs": [],
   "source": []
  },
  {
   "cell_type": "code",
   "execution_count": 2,
   "id": "2eca2bf7",
   "metadata": {},
   "outputs": [
    {
     "data": {
      "text/plain": [
       "tensor([[1., 1., 0., 0.],\n",
       "        [1., 1., 1., 0.],\n",
       "        [0., 1., 1., 1.],\n",
       "        [0., 0., 1., 1.]])"
      ]
     },
     "execution_count": 2,
     "metadata": {},
     "output_type": "execute_result"
    }
   ],
   "source": [
    "import torch\n",
    "# Adjacency matrix (with self-loops)\n",
    "A = torch.tensor([\n",
    "    [1, 1, 0, 0],\n",
    "    [1, 1, 1, 0],\n",
    "    [0, 1, 1, 1],\n",
    "    [0, 0, 1, 1]\n",
    "], dtype=torch.float32)\n",
    "A"
   ]
  },
  {
   "cell_type": "code",
   "execution_count": 3,
   "id": "b2f3a047",
   "metadata": {},
   "outputs": [
    {
     "data": {
      "text/plain": [
       "tensor([[ 0.0895,  0.9148,  1.5258,  1.0418],\n",
       "        [ 0.4404,  1.0214, -0.0601, -2.5915],\n",
       "        [ 1.8097,  1.2275, -2.6075, -1.5441],\n",
       "        [-0.8819,  1.1146, -1.2569,  2.0856]])"
      ]
     },
     "execution_count": 3,
     "metadata": {},
     "output_type": "execute_result"
    }
   ],
   "source": [
    "A1 = torch.randn((4,4), dtype = torch.float32)\n",
    "A1"
   ]
  },
  {
   "cell_type": "code",
   "execution_count": 4,
   "id": "a326ea01",
   "metadata": {},
   "outputs": [
    {
     "data": {
      "text/plain": [
       "tensor([[1., 0., 0., 0.],\n",
       "        [0., 1., 0., 0.],\n",
       "        [0., 0., 1., 0.],\n",
       "        [0., 0., 0., 1.]])"
      ]
     },
     "execution_count": 4,
     "metadata": {},
     "output_type": "execute_result"
    }
   ],
   "source": [
    "A2 = torch.eye(4)\n",
    "A2"
   ]
  },
  {
   "cell_type": "code",
   "execution_count": 5,
   "id": "e252a7f4",
   "metadata": {},
   "outputs": [
    {
     "data": {
      "text/plain": [
       "tensor([[ 1.0895,  0.9148,  1.5258,  1.0418],\n",
       "        [ 0.4404,  2.0214, -0.0601, -2.5915],\n",
       "        [ 1.8097,  1.2275, -1.6075, -1.5441],\n",
       "        [-0.8819,  1.1146, -1.2569,  3.0856]])"
      ]
     },
     "execution_count": 5,
     "metadata": {},
     "output_type": "execute_result"
    }
   ],
   "source": [
    "A1+A2"
   ]
  },
  {
   "cell_type": "code",
   "execution_count": 24,
   "id": "0d83e646",
   "metadata": {},
   "outputs": [
    {
     "name": "stdout",
     "output_type": "stream",
     "text": [
      "<class 'torch.Tensor'>\n",
      "torch.Size([4])\n"
     ]
    },
    {
     "data": {
      "text/plain": [
       "tensor([2., 3., 3., 2.])"
      ]
     },
     "execution_count": 24,
     "metadata": {},
     "output_type": "execute_result"
    }
   ],
   "source": [
    "degree = torch.sum(A, dim=1)\n",
    "print(type(degree))\n",
    "print(degree.shape)\n",
    "degree"
   ]
  },
  {
   "cell_type": "code",
   "execution_count": 25,
   "id": "74f64f5b",
   "metadata": {},
   "outputs": [
    {
     "data": {
      "text/plain": [
       "tensor([[0.7071, 0.0000, 0.0000, 0.0000],\n",
       "        [0.0000, 0.5774, 0.0000, 0.0000],\n",
       "        [0.0000, 0.0000, 0.5774, 0.0000],\n",
       "        [0.0000, 0.0000, 0.0000, 0.7071]])"
      ]
     },
     "execution_count": 25,
     "metadata": {},
     "output_type": "execute_result"
    }
   ],
   "source": [
    "torch.diag(1.0 / torch.sqrt(degree))"
   ]
  },
  {
   "cell_type": "code",
   "execution_count": 15,
   "id": "daf68287",
   "metadata": {},
   "outputs": [
    {
     "data": {
      "text/plain": [
       "tensor([[ 0.0895,  0.9148,  1.5258,  1.0418],\n",
       "        [ 0.4404,  1.0214, -0.0601, -2.5915],\n",
       "        [ 1.8097,  1.2275, -2.6075, -1.5441],\n",
       "        [-0.8819,  1.1146, -1.2569,  2.0856]])"
      ]
     },
     "execution_count": 15,
     "metadata": {},
     "output_type": "execute_result"
    }
   ],
   "source": [
    "A1"
   ]
  },
  {
   "cell_type": "code",
   "execution_count": 20,
   "id": "ac05a5cc",
   "metadata": {},
   "outputs": [
    {
     "name": "stdout",
     "output_type": "stream",
     "text": [
      "torch.Size([4, 1])\n"
     ]
    },
    {
     "data": {
      "text/plain": [
       "tensor([[ 3.5719],\n",
       "        [-1.1899],\n",
       "        [-1.1144],\n",
       "        [ 1.0613]])"
      ]
     },
     "execution_count": 20,
     "metadata": {},
     "output_type": "execute_result"
    }
   ],
   "source": [
    "print(degree.unsqueeze(1).shape)\n",
    "degree.unsqueeze(1)"
   ]
  },
  {
   "cell_type": "code",
   "execution_count": 21,
   "id": "4e9a9ad3",
   "metadata": {},
   "outputs": [
    {
     "data": {
      "text/plain": [
       "tensor([[[ 0.0895,  0.9148,  1.5258,  1.0418]],\n",
       "\n",
       "        [[ 0.4404,  1.0214, -0.0601, -2.5915]],\n",
       "\n",
       "        [[ 1.8097,  1.2275, -2.6075, -1.5441]],\n",
       "\n",
       "        [[-0.8819,  1.1146, -1.2569,  2.0856]]])"
      ]
     },
     "execution_count": 21,
     "metadata": {},
     "output_type": "execute_result"
    }
   ],
   "source": [
    "A1.unsqueeze(1)"
   ]
  },
  {
   "cell_type": "code",
   "execution_count": 26,
   "id": "5dfa4661",
   "metadata": {},
   "outputs": [
    {
     "data": {
      "text/plain": [
       "tensor([[0., 0., 0., 0., 0., 0.],\n",
       "        [0., 0., 0., 0., 0., 0.],\n",
       "        [0., 0., 0., 0., 0., 0.],\n",
       "        [0., 0., 0., 0., 0., 0.],\n",
       "        [0., 0., 0., 0., 0., 0.]])"
      ]
     },
     "execution_count": 26,
     "metadata": {},
     "output_type": "execute_result"
    }
   ],
   "source": [
    "torch.FloatTensor(5, 6)"
   ]
  },
  {
   "cell_type": "code",
   "execution_count": 69,
   "id": "2c425dbc",
   "metadata": {},
   "outputs": [],
   "source": [
    "a_list = [[1, 2, 3], [2, 3, 4], [5, 45, 6], [42, 24, 5]]\n",
    "tensors = [torch.tensor(x, dtype=torch.float32) for x in a_list]\n",
    "stacked_tensor = torch.stack(tensors, dim=1)"
   ]
  },
  {
   "cell_type": "code",
   "execution_count": 70,
   "id": "6a1a5f17",
   "metadata": {},
   "outputs": [
    {
     "data": {
      "text/plain": [
       "tensor([[ 1.,  2.,  5., 42.],\n",
       "        [ 2.,  3., 45., 24.],\n",
       "        [ 3.,  4.,  6.,  5.]])"
      ]
     },
     "execution_count": 70,
     "metadata": {},
     "output_type": "execute_result"
    }
   ],
   "source": [
    "stacked_tensor"
   ]
  },
  {
   "cell_type": "code",
   "execution_count": null,
   "id": "d275377b",
   "metadata": {},
   "outputs": [],
   "source": []
  }
 ],
 "metadata": {
  "kernelspec": {
   "display_name": "Python 3 (ipykernel)",
   "language": "python",
   "name": "python3"
  },
  "language_info": {
   "codemirror_mode": {
    "name": "ipython",
    "version": 3
   },
   "file_extension": ".py",
   "mimetype": "text/x-python",
   "name": "python",
   "nbconvert_exporter": "python",
   "pygments_lexer": "ipython3",
   "version": "3.10.13"
  }
 },
 "nbformat": 4,
 "nbformat_minor": 5
}
