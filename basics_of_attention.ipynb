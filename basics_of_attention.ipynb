{
 "cells": [
  {
   "cell_type": "markdown",
   "id": "018e511e-ada0-419b-b265-fe9326cd9b5f",
   "metadata": {},
   "source": [
    "# Understanding Attention and Multi-Head Attention\n",
    "\n",
    "## 1. What is Attention?\n",
    "\n",
    "**Attention** helps a model focus on the most relevant parts of the input when making predictions.\n",
    "\n",
    "Imagine we have 3 sensor readings:\n"
   ]
  },
  {
   "cell_type": "code",
   "execution_count": 3,
   "id": "fbef6b63-5cf7-49a7-b5b5-55dff0a27b33",
   "metadata": {},
   "outputs": [],
   "source": [
    "import torch\n",
    "\n",
    "# Each row is a 2D feature vector at a time step\n",
    "X = torch.tensor([\n",
    "    [1.0, 0.0],  # sensor1\n",
    "    [0.0, 1.0],  # sensor2\n",
    "    [1.0, 1.0],  # sensor3\n",
    "])\n"
   ]
  },
  {
   "cell_type": "markdown",
   "id": "774696c3-2bdd-4925-9dce-a29c4d789754",
   "metadata": {},
   "source": [
    "We want to compute **attention**: a new representation of each input as a weighted sum of all others, based on similarity.\n",
    "\n",
    "### Scaled Dot-Product Attention Formula:\n",
    "\n",
    "$$\n",
    "\\text{Attention}(Q, K, V) = \\text{softmax}\\left(\\frac{QK^T}{\\sqrt{d_k}}\\right)V\n",
    "$$\n",
    "\n",
    "Where:\n",
    "- \\( Q \\): Query\n",
    "- \\( K \\): Key\n",
    "- \\( V \\): Value\n",
    "- \\( d_k \\): Dimension of key\n",
    "\n",
    "We'll use identity projections for simplicity.\n"
   ]
  },
  {
   "cell_type": "code",
   "execution_count": 5,
   "id": "b9bc6558-5fee-4190-9e53-3fa9c12df254",
   "metadata": {},
   "outputs": [
    {
     "name": "stdout",
     "output_type": "stream",
     "text": [
      "Attention Output:\n",
      " tensor([[0.8022, 0.5989],\n",
      "        [0.5989, 0.8022],\n",
      "        [0.7517, 0.7517]])\n"
     ]
    }
   ],
   "source": [
    "import torch.nn.functional as F\n",
    "\n",
    "W_q = torch.eye(2)\n",
    "W_k = torch.eye(2)\n",
    "W_v = torch.eye(2)\n",
    "\n",
    "Q = X @ W_q.T\n",
    "K = X @ W_k.T\n",
    "V = X @ W_v.T\n",
    "\n",
    "# Scaled dot-product attention\n",
    "scores = Q @ K.T\n",
    "scaled_scores = scores / (2 ** 0.5)\n",
    "attn_weights = F.softmax(scaled_scores, dim=-1)\n",
    "attention_output = attn_weights @ V\n",
    "\n",
    "print(\"Attention Output:\\n\", attention_output)\n"
   ]
  },
  {
   "cell_type": "markdown",
   "id": "616a8d10-97e9-4044-8ee7-1cc557e5674e",
   "metadata": {},
   "source": [
    "---\n",
    "\n",
    "## 2. Why Multi-Head Attention?\n",
    "\n",
    "Single attention might miss relationships. **Multi-head attention** applies attention multiple times in parallel with different learned projections.\n",
    "\n",
    "Each head can focus on different patterns.\n",
    "\n",
    "### Multi-Head Attention Steps:\n",
    "1. Apply different linear projections to get Q, K, V for each head\n",
    "2. Compute attention separately for each head\n",
    "3. Concatenate outputs from all heads\n",
    "4. Project the result with one final layer\n"
   ]
  },
  {
   "cell_type": "code",
   "execution_count": 6,
   "id": "1c5907c0-d1a3-4486-9fe3-47db25d4e260",
   "metadata": {},
   "outputs": [
    {
     "name": "stdout",
     "output_type": "stream",
     "text": [
      "Multi-Head Attention Output:\n",
      " tensor([[0.8022, 0.5989, 0.5989, 0.8022],\n",
      "        [0.5989, 0.8022, 0.8022, 0.5989],\n",
      "        [0.7517, 0.7517, 0.7517, 0.7517]])\n"
     ]
    }
   ],
   "source": [
    "# Head 1: normal identity projections\n",
    "W_q1 = torch.tensor([[1., 0.], [0., 1.]])\n",
    "W_k1 = torch.tensor([[1., 0.], [0., 1.]])\n",
    "W_v1 = torch.tensor([[1., 0.], [0., 1.]])\n",
    "\n",
    "# Head 2: swapped projections (simulating different view)\n",
    "W_q2 = torch.tensor([[0., 1.], [1., 0.]])\n",
    "W_k2 = torch.tensor([[0., 1.], [1., 0.]])\n",
    "W_v2 = torch.tensor([[0., 1.], [1., 0.]])\n",
    "\n",
    "# Head 1 attention\n",
    "Q1 = X @ W_q1.T\n",
    "K1 = X @ W_k1.T\n",
    "V1 = X @ W_v1.T\n",
    "scores1 = Q1 @ K1.T / (2 ** 0.5)\n",
    "attn1 = F.softmax(scores1, dim=-1)\n",
    "out1 = attn1 @ V1\n",
    "\n",
    "# Head 2 attention\n",
    "Q2 = X @ W_q2.T\n",
    "K2 = X @ W_k2.T\n",
    "V2 = X @ W_v2.T\n",
    "scores2 = Q2 @ K2.T / (2 ** 0.5)\n",
    "attn2 = F.softmax(scores2, dim=-1)\n",
    "out2 = attn2 @ V2\n",
    "\n",
    "# Concatenate heads\n",
    "multi_head_output = torch.cat([out1, out2], dim=-1)\n",
    "print(\"Multi-Head Attention Output:\\n\", multi_head_output)\n"
   ]
  },
  {
   "cell_type": "markdown",
   "id": "b78d3eba-67a6-4ff6-b1b6-844ae9ebe7fa",
   "metadata": {},
   "source": [
    "---\n",
    "\n",
    "## 3. Learnable Multi-Head Attention \n",
    "\n",
    "In practice, we use `nn.Linear` to learn weights. Here's a simple multi-head attention implementation.\n"
   ]
  },
  {
   "cell_type": "code",
   "execution_count": 8,
   "id": "fabfcf8e-c3ad-4966-a5e7-c61bd7db307c",
   "metadata": {},
   "outputs": [],
   "source": [
    "import torch.nn as nn\n",
    "\n",
    "\n",
    "class SimpleMultiHeadAttention(nn.Module):\n",
    "    def __init__(self, embed_dim, num_heads):\n",
    "        super().__init__()\n",
    "        # The embedding dimension must be divisible by the number of attention heads,\n",
    "        # since each head processes a chunk of size embed_dim // num_heads.\n",
    "        assert embed_dim%num_heads == 0\n",
    "        self.embed_dim = embed_dim\n",
    "        self.num_heads = num_heads\n",
    "        self.head_dim = embed_dim // num_heads\n",
    "\n",
    "        self.W_q = nn.Linear(embed_dim, embed_dim)\n",
    "        self.W_k = nn.Linear(embed_dim, embed_dim)\n",
    "        self.W_v = nn.Linear(embed_dim, embed_dim)\n",
    "        self.W_o = nn.Linear(embed_dim, embed_dim)\n",
    "\n",
    "    def forward(self, X):\n",
    "        B, T, D = x.size()\n",
    "        # B - batch size\n",
    "        # T Sequence length(Time Steps) : T=3 if we have 3 sensor reading\n",
    "        # D - Dimentionality of each input vector : D=4 for 4 features\n",
    "        # H - Number of attention heads: H=2\n",
    "        # D/H - Head dimension: Each head gets a chunk of the full embedding. \n",
    "        #                       Ex: If D=4, H=2, then each head gets 4/2=2 features.\n",
    "        Q = self.W_q(x)  # (B, T, D)\n",
    "        K = self.W_k(x)\n",
    "        V = self.W_v(x)\n",
    "\n",
    "        # Reshape to (B, H, T, D/H)\n",
    "        Q = Q.view(B, T, self.num_heads, self.head_dim).transpose(1, 2)\n",
    "        K = K.view(B, T, self.num_heads, self.head_dim).transpose(1, 2)\n",
    "        V = V.view(B, T, self.num_heads, self.head_dim).transpose(1, 2)\n",
    "\n",
    "        # Compute attention\n",
    "        scores = Q @ K.transpose(-2, -1) / self.head_dim ** 0.5\n",
    "        attn_weights = F.softmax(scores, dim=-1)\n",
    "        out = attn_weights @ V  # (B, H, T, D/H)\n",
    "\n",
    "        # Concatenate heads\n",
    "        out = out.transpose(1, 2).contiguous().view(B, T, self.embed_dim)\n",
    "        return self.W_o(out)\n",
    "\n"
   ]
  },
  {
   "cell_type": "code",
   "execution_count": 9,
   "id": "15d6e02f-6e4b-4f2a-95e6-949b09d0aabd",
   "metadata": {},
   "outputs": [
    {
     "name": "stdout",
     "output_type": "stream",
     "text": [
      "Learnable Multi-Head Attention Output:\n",
      " tensor([[[-0.3734,  0.2497,  0.2440, -0.1409],\n",
      "         [-0.3829,  0.2564,  0.2437, -0.1439],\n",
      "         [-0.3764,  0.2518,  0.2439, -0.1417]]], grad_fn=<ViewBackward0>)\n"
     ]
    }
   ],
   "source": [
    "# Example input\n",
    "torch.manual_seed(42)\n",
    "x = torch.rand(1, 3, 4)  # (batch, sequence length, embedding dim)\n",
    "\n",
    "# Create multi-head attention layer\n",
    "mha = SimpleMultiHeadAttention(embed_dim=4, num_heads=2)\n",
    "out = mha(x)\n",
    "\n",
    "print(\"Learnable Multi-Head Attention Output:\\n\", out)\n"
   ]
  },
  {
   "cell_type": "markdown",
   "id": "2129ff52-1f55-422c-9e70-1f1f41687065",
   "metadata": {},
   "source": [
    "---\n",
    "\n",
    "## Summary\n",
    "\n",
    "| Concept              | Purpose                                     |\n",
    "|----------------------|---------------------------------------------|\n",
    "| Attention            | Weighted focus on input based on similarity |\n",
    "| Scaled Dot Product   | Measure similarity between query and key    |\n",
    "| Multi-Head Attention | Multiple views of attention in parallel     |\n",
    "| `nn.Linear`          | Learns weights for Q, K, V projections      |\n",
    "\n",
    "---\n",
    "\n",
    "\n"
   ]
  },
  {
   "cell_type": "markdown",
   "id": "af450d13-e006-45d5-a017-a5d85922d217",
   "metadata": {},
   "source": [
    "## Real-World Use Case: Predict Driver Behavior from Sensor Data\n",
    "\n",
    "Imagine you are building a system to monitor and classify driver behavior using sensor data collected from the vehicle and the driver (e.g., brake pressure, speed, blink rate, head tilt, etc.).\n",
    "\n",
    "Each time step contains an 8-dimensional vector of readings.\n",
    "\n",
    "We want to use **multi-head attention** to:\n",
    "- Learn which **sensor dimensions** are important (feature-level attention)\n",
    "- Learn which **time steps** are relevant (temporal attention)\n"
   ]
  },
  {
   "cell_type": "code",
   "execution_count": 11,
   "id": "c1a0c829-f169-4b91-bdf8-a6b7caec72aa",
   "metadata": {},
   "outputs": [],
   "source": [
    "import torch\n",
    "import torch.nn as nn\n",
    "import torch.nn.functional as F\n",
    "\n",
    "# Sample input: B = 2 drivers, T = 50 time steps, D = 8 sensor features\n",
    "B, T, D = 2, 50, 8\n",
    "x = torch.rand(B, T, D)  # Simulated sensor data\n"
   ]
  },
  {
   "cell_type": "markdown",
   "id": "2a347e8b-f641-4c1c-b916-e7d261885546",
   "metadata": {},
   "source": [
    "### Attention Model for Driver Behavior\n",
    "\n",
    "We'll use a **multi-head attention mechanism** where each head focuses on different aspects of the input sequence (e.g., speed dynamics, eye movement, braking pattern).\n"
   ]
  },
  {
   "cell_type": "code",
   "execution_count": 12,
   "id": "4c50063c-00e0-43a6-9886-4e98c53e5f21",
   "metadata": {},
   "outputs": [],
   "source": [
    "class DriverAttentionModel(nn.Module):\n",
    "    def __init__(self, embed_dim=8, num_heads=4, num_classes=4):\n",
    "        super().__init__()\n",
    "        assert embed_dim % num_heads == 0, \"Embedding dim must be divisible by number of heads\"\n",
    "        self.embed_dim = embed_dim\n",
    "        self.num_heads = num_heads\n",
    "        self.head_dim = embed_dim // num_heads\n",
    "\n",
    "        # Linear layers for Q, K, V projections\n",
    "        self.W_q = nn.Linear(embed_dim, embed_dim)\n",
    "        self.W_k = nn.Linear(embed_dim, embed_dim)\n",
    "        self.W_v = nn.Linear(embed_dim, embed_dim)\n",
    "        self.W_o = nn.Linear(embed_dim, embed_dim)\n",
    "\n",
    "        # Classification head\n",
    "        self.classifier = nn.Sequential(\n",
    "            nn.Linear(embed_dim, 32),\n",
    "            nn.ReLU(),\n",
    "            nn.Linear(32, num_classes)  # e.g., Normal, Sharp Turn, Braking, Drowsy\n",
    "        )\n",
    "\n",
    "    def forward(self, x):\n",
    "        B, T, D = x.size()\n",
    "\n",
    "        # Project to Q, K, V\n",
    "        Q = self.W_q(x)\n",
    "        K = self.W_k(x)\n",
    "        V = self.W_v(x)\n",
    "\n",
    "        # Reshape to (B, H, T, D/H)\n",
    "        Q = Q.view(B, T, self.num_heads, self.head_dim).transpose(1, 2)\n",
    "        K = K.view(B, T, self.num_heads, self.head_dim).transpose(1, 2)\n",
    "        V = V.view(B, T, self.num_heads, self.head_dim).transpose(1, 2)\n",
    "\n",
    "        # Scaled Dot-Product Attention\n",
    "        scores = Q @ K.transpose(-2, -1) / self.head_dim ** 0.5\n",
    "        attn = F.softmax(scores, dim=-1)\n",
    "        out = attn @ V\n",
    "\n",
    "        # Merge heads back\n",
    "        out = out.transpose(1, 2).contiguous().view(B, T, self.embed_dim)\n",
    "\n",
    "        # Pool over time (mean-pooling)\n",
    "        pooled = out.mean(dim=1)  # (B, D)\n",
    "\n",
    "        # Classify\n",
    "        return self.classifier(pooled)\n"
   ]
  },
  {
   "cell_type": "markdown",
   "id": "83c78561-6a52-4427-8a40-696b3b8ae3d4",
   "metadata": {},
   "source": [
    "### Run the model on sensor data\n"
   ]
  },
  {
   "cell_type": "code",
   "execution_count": 13,
   "id": "12c7f9c7-3ed6-4634-b07a-f56ef383d493",
   "metadata": {},
   "outputs": [
    {
     "name": "stdout",
     "output_type": "stream",
     "text": [
      "Driver behavior probabilities:\n",
      " tensor([[0.2666, 0.2618, 0.2021, 0.2695],\n",
      "        [0.2714, 0.2607, 0.1981, 0.2699]], grad_fn=<SoftmaxBackward0>)\n"
     ]
    }
   ],
   "source": [
    "# Create model and run inference\n",
    "model = DriverAttentionModel(embed_dim=8, num_heads=4, num_classes=4)\n",
    "output = model(x)\n",
    "\n",
    "# Convert output to probabilities\n",
    "probabilities = F.softmax(output, dim=-1)\n",
    "print(\"Driver behavior probabilities:\\n\", probabilities)\n"
   ]
  },
  {
   "cell_type": "markdown",
   "id": "bbdab812-fe7d-4841-b306-3d59e3514684",
   "metadata": {},
   "source": [
    "## Prediction Meaning\n",
    "\n",
    "Each row in the output corresponds to a driver. Each column gives the probability of:\n",
    "1. Normal driving\n",
    "2. Sharp Turn\n",
    "3. Hard Braking\n",
    "4. Drowsy Driving\n"
   ]
  },
  {
   "cell_type": "code",
   "execution_count": 14,
   "id": "d7a9ce93-6323-4140-97bb-2f5eab7a8753",
   "metadata": {},
   "outputs": [
    {
     "data": {
      "image/png": "[encoded data removed]",
      "text/plain": [
       "<Figure size 640x480 with 1 Axes>"
      ]
     },
     "metadata": {},
     "output_type": "display_data"
    },
    {
     "name": "stdout",
     "output_type": "stream",
     "text": [
      "Test Accuracy: 12.50%\n",
      "   Sample #  Predicted Class\n",
      "0         1                2\n",
      "1         2                2\n",
      "2         3                2\n",
      "3         4                2\n",
      "4         5                2\n"
     ]
    }
   ],
   "source": [
    "import torch\n",
    "import torch.nn as nn\n",
    "import torch.nn.functional as F\n",
    "from torch.utils.data import DataLoader, TensorDataset\n",
    "import matplotlib.pyplot as plt\n",
    "import numpy as np\n",
    "import pandas as pd\n",
    "\n",
    "# Set random seed\n",
    "torch.manual_seed(42)\n",
    "\n",
    "# Dataset: 40 samples, 20 time steps, 8 sensor features\n",
    "B, T, D = 40, 20, 8\n",
    "num_classes = 4\n",
    "num_heads = 2\n",
    "embed_dim = D\n",
    "\n",
    "# Create synthetic dataset\n",
    "X = torch.rand(B, T, D)\n",
    "y = torch.randint(0, num_classes, (B,))\n",
    "\n",
    "# Split into train/test\n",
    "split = int(0.8 * B)\n",
    "X_train, y_train = X[:split], y[:split]\n",
    "X_test, y_test = X[split:], y[split:]\n",
    "\n",
    "train_loader = DataLoader(TensorDataset(X_train, y_train), batch_size=8, shuffle=True)\n",
    "test_loader = DataLoader(TensorDataset(X_test, y_test), batch_size=8)\n",
    "\n",
    "# Attention model definition\n",
    "class DriverAttentionModel(nn.Module):\n",
    "    def __init__(self, embed_dim=8, num_heads=2, num_classes=4):\n",
    "        super().__init__()\n",
    "        assert embed_dim % num_heads == 0\n",
    "        self.head_dim = embed_dim // num_heads\n",
    "        self.num_heads = num_heads\n",
    "\n",
    "        self.W_q = nn.Linear(embed_dim, embed_dim)\n",
    "        self.W_k = nn.Linear(embed_dim, embed_dim)\n",
    "        self.W_v = nn.Linear(embed_dim, embed_dim)\n",
    "        self.W_o = nn.Linear(embed_dim, embed_dim)\n",
    "\n",
    "        self.classifier = nn.Sequential(\n",
    "            nn.Linear(embed_dim, 16),\n",
    "            nn.ReLU(),\n",
    "            nn.Linear(16, num_classes)\n",
    "        )\n",
    "\n",
    "    def forward(self, x):\n",
    "        B, T, D = x.size()\n",
    "        Q = self.W_q(x).view(B, T, self.num_heads, self.head_dim).transpose(1, 2)\n",
    "        K = self.W_k(x).view(B, T, self.num_heads, self.head_dim).transpose(1, 2)\n",
    "        V = self.W_v(x).view(B, T, self.num_heads, self.head_dim).transpose(1, 2)\n",
    "\n",
    "        scores = Q @ K.transpose(-2, -1) / (self.head_dim ** 0.5)\n",
    "        attn = F.softmax(scores, dim=-1)\n",
    "        out = attn @ V\n",
    "        out = out.transpose(1, 2).contiguous().view(B, T, D)\n",
    "        pooled = out.mean(dim=1)\n",
    "        return self.classifier(pooled)\n",
    "\n",
    "# Instantiate model\n",
    "model = DriverAttentionModel(embed_dim=D, num_heads=num_heads, num_classes=num_classes)\n",
    "optimizer = torch.optim.Adam(model.parameters(), lr=0.001)\n",
    "loss_fn = nn.CrossEntropyLoss()\n",
    "\n",
    "# Train\n",
    "train_losses = []\n",
    "for epoch in range(5):\n",
    "    model.train()\n",
    "    total_loss = 0\n",
    "    for xb, yb in train_loader:\n",
    "        optimizer.zero_grad()\n",
    "        pred = model(xb)\n",
    "        loss = loss_fn(pred, yb)\n",
    "        loss.backward()\n",
    "        optimizer.step()\n",
    "        total_loss += loss.item()\n",
    "    train_losses.append(total_loss / len(train_loader))\n",
    "\n",
    "# Plot loss\n",
    "plt.plot(train_losses)\n",
    "plt.title(\"Training Loss\")\n",
    "plt.xlabel(\"Epoch\")\n",
    "plt.ylabel(\"Loss\")\n",
    "plt.grid(True)\n",
    "plt.show()\n",
    "\n",
    "# Evaluate accuracy\n",
    "model.eval()\n",
    "correct = 0\n",
    "total = 0\n",
    "with torch.no_grad():\n",
    "    for xb, yb in test_loader:\n",
    "        pred = model(xb)\n",
    "        preds = torch.argmax(pred, dim=1)\n",
    "        correct += (preds == yb).sum().item()\n",
    "        total += yb.size(0)\n",
    "\n",
    "print(f\"Test Accuracy: {correct / total * 100:.2f}%\")\n",
    "\n",
    "# Predict on new unseen inputs\n",
    "new_samples = torch.rand(5, T, D)\n",
    "with torch.no_grad():\n",
    "    new_preds = model(new_samples)\n",
    "    predicted_classes = torch.argmax(new_preds, dim=1)\n",
    "\n",
    "# Display predictions\n",
    "df = pd.DataFrame({\n",
    "    \"Sample #\": np.arange(1, 6),\n",
    "    \"Predicted Class\": predicted_classes.numpy()\n",
    "})\n",
    "print(df)\n"
   ]
  },
  {
   "cell_type": "code",
   "execution_count": 15,
   "id": "4e324f69-6ae0-4b3c-b554-11fb626e42c2",
   "metadata": {},
   "outputs": [],
   "source": [
    "class DriverAttentionModel(nn.Module):\n",
    "    def __init__(self, embed_dim=8, num_heads=2, num_classes=4):\n",
    "        super().__init__()\n",
    "        assert embed_dim % num_heads == 0\n",
    "        self.head_dim = embed_dim // num_heads\n",
    "        self.num_heads = num_heads\n",
    "\n",
    "        self.W_q = nn.Linear(embed_dim, embed_dim)\n",
    "        self.W_k = nn.Linear(embed_dim, embed_dim)\n",
    "        self.W_v = nn.Linear(embed_dim, embed_dim)\n",
    "        self.W_o = nn.Linear(embed_dim, embed_dim)\n",
    "\n",
    "        self.classifier = nn.Sequential(\n",
    "            nn.Linear(embed_dim, 16),\n",
    "            nn.ReLU(),\n",
    "            nn.Linear(16, num_classes)\n",
    "        )\n",
    "\n",
    "    def forward(self, x, return_attention=False):\n",
    "        B, T, D = x.size()\n",
    "        Q = self.W_q(x).view(B, T, self.num_heads, self.head_dim).transpose(1, 2)\n",
    "        K = self.W_k(x).view(B, T, self.num_heads, self.head_dim).transpose(1, 2)\n",
    "        V = self.W_v(x).view(B, T, self.num_heads, self.head_dim).transpose(1, 2)\n",
    "\n",
    "        scores = Q @ K.transpose(-2, -1) / (self.head_dim ** 0.5)\n",
    "        attn = F.softmax(scores, dim=-1)  # (B, H, T, T)\n",
    "        out = attn @ V\n",
    "        out = out.transpose(1, 2).contiguous().view(B, T, D)\n",
    "        pooled = out.mean(dim=1)\n",
    "        logits = self.classifier(pooled)\n",
    "\n",
    "        if return_attention:\n",
    "            return logits, attn\n",
    "        else:\n",
    "            return logits\n"
   ]
  },
  {
   "cell_type": "code",
   "execution_count": 19,
   "id": "e9b49b7c-22ff-4e46-a641-53046ee84f09",
   "metadata": {},
   "outputs": [],
   "source": [
    "# Define input and model parameters\n",
    "T = 20  # sequence length\n",
    "D = 8   # embedding/sensor dimension\n",
    "num_heads = 2\n",
    "num_classes = 4\n",
    "\n",
    "# Instantiate the model\n",
    "model = DriverAttentionModel(embed_dim=D, num_heads=num_heads, num_classes=num_classes)\n"
   ]
  },
  {
   "cell_type": "code",
   "execution_count": 20,
   "id": "1503ff2f-e87c-4702-b81f-8c2e516747cb",
   "metadata": {},
   "outputs": [
    {
     "data": {
      "image/png": "[encoded data removed]",
      "text/plain": [
       "<Figure size 800x800 with 2 Axes>"
      ]
     },
     "metadata": {},
     "output_type": "display_data"
    }
   ],
   "source": [
    "# Generate a single test input\n",
    "test_sample = torch.rand(1, T, D)\n",
    "\n",
    "# Forward pass with attention output\n",
    "model.eval()\n",
    "with torch.no_grad():\n",
    "    logits, attn_weights = model(test_sample, return_attention=True)\n",
    "\n",
    "# Extract attention for head 0 and head 1 (shape: [B, H, T, T])\n",
    "attn = attn_weights[0]  # remove batch dimension → shape: [H, T, T]\n",
    "\n",
    "import matplotlib.pyplot as plt\n",
    "\n",
    "fig, axs = plt.subplots(model.num_heads, 1, figsize=(8, 4 * model.num_heads))\n",
    "for h in range(model.num_heads):\n",
    "    axs[h].imshow(attn[h].cpu().numpy(), cmap='viridis')\n",
    "    axs[h].set_title(f'Attention Heatmap - Head {h}')\n",
    "    axs[h].set_xlabel('Key Time Step')\n",
    "    axs[h].set_ylabel('Query Time Step')\n",
    "    axs[h].set_xticks(range(0, T, 2))\n",
    "    axs[h].set_yticks(range(0, T, 2))\n",
    "    axs[h].grid(False)\n",
    "\n",
    "plt.tight_layout()\n",
    "plt.show()\n"
   ]
  },
  {
   "cell_type": "code",
   "execution_count": 19,
   "id": "3ce76ec0-2a24-4ed3-afe3-e41af73e0440",
   "metadata": {},
   "outputs": [
    {
     "name": "stdout",
     "output_type": "stream",
     "text": [
      "  unique_id  random_num1  random_num2\n",
      "0      Test     0.654427            7\n",
      "1      Test     0.956979           97\n",
      "2      Test     0.050755           60\n",
      "3      Test     0.220847           79\n",
      "4      Test     0.516391           95\n",
      "5      Test     0.429480           53\n",
      "6      Test     0.777281            1\n",
      "7      Test     0.199003           44\n",
      "8      Test     0.237870           33\n",
      "9      Test     0.054099           99\n"
     ]
    }
   ],
   "source": [
    "import pandas as pd\n",
    "import uuid\n",
    "import numpy as np\n",
    "\n",
    "n_rows = 10\n",
    "df = pd.DataFrame({\n",
    "    'unique_id': [\"Test\"]*10,\n",
    "    'random_num1': np.random.rand(n_rows),\n",
    "    'random_num2': np.random.randint(1, 100, n_rows)\n",
    "})\n",
    "\n",
    "print(df)"
   ]
  },
  {
   "cell_type": "code",
   "execution_count": 26,
   "id": "99bde806-a0d4-4242-87a2-83f5642e87c5",
   "metadata": {},
   "outputs": [
    {
     "name": "stdout",
     "output_type": "stream",
     "text": [
      "<class 'numpy.ndarray'>\n"
     ]
    },
    {
     "data": {
      "text/plain": [
       "array([['Test', 0.6544272035752784, 7],\n",
       "       ['Test', 0.9569789277156429, 97],\n",
       "       ['Test', 0.05075480268577737, 60],\n",
       "       ['Test', 0.2208467428390366, 79],\n",
       "       ['Test', 0.5163910981401336, 95],\n",
       "       ['Test', 0.42948035800095985, 53],\n",
       "       ['Test', 0.7772813794191421, 1],\n",
       "       ['Test', 0.19900318111926152, 44],\n",
       "       ['Test', 0.23786955763630813, 33],\n",
       "       ['Test', 0.05409928368137895, 99]], dtype=object)"
      ]
     },
     "execution_count": 26,
     "metadata": {},
     "output_type": "execute_result"
    }
   ],
   "source": [
    "print(type(df.values))\n",
    "n = df.values\n",
    "n"
   ]
  },
  {
   "cell_type": "code",
   "execution_count": 36,
   "id": "98328f56-7f4b-4de8-9c52-796792d07e0e",
   "metadata": {},
   "outputs": [],
   "source": [
    "s = 5\n",
    "l = len(n)\n",
    "p = n[l-s:]\n",
    "q = n[:l-5]"
   ]
  },
  {
   "cell_type": "code",
   "execution_count": 37,
   "id": "0c4714d2-b2cf-44f2-a0dc-ad9597695c2a",
   "metadata": {},
   "outputs": [
    {
     "data": {
      "text/plain": [
       "array([['Test', 0.6544272035752784, 7],\n",
       "       ['Test', 0.9569789277156429, 97],\n",
       "       ['Test', 0.05075480268577737, 60],\n",
       "       ['Test', 0.2208467428390366, 79],\n",
       "       ['Test', 0.5163910981401336, 95]], dtype=object)"
      ]
     },
     "execution_count": 37,
     "metadata": {},
     "output_type": "execute_result"
    }
   ],
   "source": [
    "q"
   ]
  },
  {
   "cell_type": "code",
   "execution_count": 38,
   "id": "c02882e2-8829-4bee-bde2-c7a63aeffc72",
   "metadata": {},
   "outputs": [
    {
     "data": {
      "text/plain": [
       "array([['Test', 0.42948035800095985, 53, 'Test', 0.6544272035752784, 7],\n",
       "       ['Test', 0.7772813794191421, 1, 'Test', 0.9569789277156429, 97],\n",
       "       ['Test', 0.19900318111926152, 44, 'Test', 0.05075480268577737, 60],\n",
       "       ['Test', 0.23786955763630813, 33, 'Test', 0.2208467428390366, 79],\n",
       "       ['Test', 0.05409928368137895, 99, 'Test', 0.5163910981401336, 95]],\n",
       "      dtype=object)"
      ]
     },
     "execution_count": 38,
     "metadata": {},
     "output_type": "execute_result"
    }
   ],
   "source": [
    "np.concatenate((p,q), axis=1)"
   ]
  },
  {
   "cell_type": "code",
   "execution_count": null,
   "id": "d920560e-0a73-426f-9d97-751bdf2e3018",
   "metadata": {},
   "outputs": [],
   "source": []
  }
 ],
 "metadata": {
  "kernelspec": {
   "display_name": "Python 3 (ipykernel)",
   "language": "python",
   "name": "python3"
  },
  "language_info": {
   "codemirror_mode": {
    "name": "ipython",
    "version": 3
   },
   "file_extension": ".py",
   "mimetype": "text/x-python",
   "name": "python",
   "nbconvert_exporter": "python",
   "pygments_lexer": "ipython3",
   "version": "3.10.14"
  }
 },
 "nbformat": 4,
 "nbformat_minor": 5
}
